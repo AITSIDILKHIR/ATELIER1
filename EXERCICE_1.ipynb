{
  "nbformat": 4,
  "nbformat_minor": 0,
  "metadata": {
    "colab": {
      "provenance": [],
      "authorship_tag": "ABX9TyMyQt9HGpTzRMfPIUjfrjGm",
      "include_colab_link": true
    },
    "kernelspec": {
      "name": "python3",
      "display_name": "Python 3"
    },
    "language_info": {
      "name": "python"
    }
  },
  "cells": [
    {
      "cell_type": "markdown",
      "metadata": {
        "id": "view-in-github",
        "colab_type": "text"
      },
      "source": [
        "<a href=\"https://colab.research.google.com/github/AITSIDILKHIR/ATELIER1/blob/main/EXERCICE_1.ipynb\" target=\"_parent\"><img src=\"https://colab.research.google.com/assets/colab-badge.svg\" alt=\"Open In Colab\"/></a>"
      ]
    },
    {
      "cell_type": "markdown",
      "source": [
        "EXERCICE 1  LA fonction qui renvoie la puissance d’un nombre Xn"
      ],
      "metadata": {
        "id": "23ZEluBt2tc8"
      }
    },
    {
      "cell_type": "code",
      "source": [
        "def puissance():\n",
        "   ps = 1\n",
        "   a=int(input(\"entrer la base \"))\n",
        "   b=int(input(\"entrer l'exposant \"))\n",
        "   for i in range(b):\n",
        "       ps=ps*a\n",
        "   print(a,\"a la puissance\",b, \"est égale à \",ps)\n",
        "puissance()\n"
      ],
      "metadata": {
        "id": "dCCxJEEfs2KC"
      },
      "execution_count": null,
      "outputs": []
    },
    {
      "cell_type": "markdown",
      "source": [
        "  EXERCICE 2  LA  fonction python qui calcul la factorielle d’un nombre donné"
      ],
      "metadata": {
        "id": "2jfxGDt533nM"
      }
    },
    {
      "cell_type": "code",
      "source": [
        "def fact(n):\n",
        "    if n==0 :\n",
        "        return 1\n",
        "    else:\n",
        "        f=1\n",
        "        for i in range(2,n+1) :\n",
        "            f=f*i\n",
        "        return f\n",
        "a=int(input(\"entrer un nombre \"))\n",
        "print(\" la factoriel du nombre \",a,\"est\",fact(a))\n"
      ],
      "metadata": {
        "id": "2jyiVXlO18bG"
      },
      "execution_count": null,
      "outputs": []
    }
  ]
}