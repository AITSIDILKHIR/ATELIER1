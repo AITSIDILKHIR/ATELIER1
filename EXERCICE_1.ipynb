{
  "nbformat": 4,
  "nbformat_minor": 0,
  "metadata": {
    "colab": {
      "provenance": [],
      "authorship_tag": "ABX9TyMCPUehJulE7IPijDVlRRSs",
      "include_colab_link": true
    },
    "kernelspec": {
      "name": "python3",
      "display_name": "Python 3"
    },
    "language_info": {
      "name": "python"
    }
  },
  "cells": [
    {
      "cell_type": "markdown",
      "metadata": {
        "id": "view-in-github",
        "colab_type": "text"
      },
      "source": [
        "<a href=\"https://colab.research.google.com/github/AITSIDILKHIR/ATELIER1/blob/main/EXERCICE_1.ipynb\" target=\"_parent\"><img src=\"https://colab.research.google.com/assets/colab-badge.svg\" alt=\"Open In Colab\"/></a>"
      ]
    },
    {
      "cell_type": "code",
      "execution_count": null,
      "metadata": {
        "id": "xAfBtyrBssDW"
      },
      "outputs": [],
      "source": []
    },
    {
      "cell_type": "markdown",
      "source": [
        "EXERCICE 1  LA fonction qui renvoie la puissance d’un nombre Xn"
      ],
      "metadata": {
        "id": "23ZEluBt2tc8"
      }
    },
    {
      "cell_type": "code",
      "source": [
        "def puissance():\n",
        "   ps = 1\n",
        "   a=int(input(\"entrer la base \"))\n",
        "   b=int(input(\"entrer l'exposant \"))\n",
        "   for i in range(b):\n",
        "       ps=ps*a\n",
        "   print(a,\"a la puissance\",b, \"est égale à \",ps)\n",
        "puissance()\n"
      ],
      "metadata": {
        "colab": {
          "base_uri": "https://localhost:8080/"
        },
        "id": "dCCxJEEfs2KC",
        "outputId": "f060c024-cb5e-4e0d-a79e-d7508d3d0604"
      },
      "execution_count": 2,
      "outputs": [
        {
          "output_type": "stream",
          "name": "stdout",
          "text": [
            "entrer la base 2\n",
            "entrer l'exposant 3\n",
            "2 a la puissance 3 est égale à  8\n"
          ]
        }
      ]
    },
    {
      "cell_type": "code",
      "source": [],
      "metadata": {
        "id": "2jyiVXlO18bG"
      },
      "execution_count": null,
      "outputs": []
    }
  ]
}